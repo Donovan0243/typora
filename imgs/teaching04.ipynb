{
 "cells": [
  {
   "cell_type": "markdown",
   "id": "450820f7",
   "metadata": {},
   "source": [
    "## 1. LangGraph Example\n",
    "### 1.1 Define the Graph State"
   ]
  },
  {
   "cell_type": "code",
   "execution_count": 22,
   "id": "34c79d0f",
   "metadata": {},
   "outputs": [],
   "source": [
    "from typing import Dict, TypedDict, Optional\n",
    "class GraphState(TypedDict):\n",
    "    question: Optional[str] = None\n",
    "    classification: Optional[str] = None\n",
    "    response: Optional[str] = None"
   ]
  },
  {
   "cell_type": "markdown",
   "id": "b67e7859",
   "metadata": {},
   "source": [
    "### 1.2. Create the Graph"
   ]
  },
  {
   "cell_type": "code",
   "execution_count": 23,
   "id": "effadd53",
   "metadata": {},
   "outputs": [],
   "source": [
    "from langgraph.graph import StateGraph\n",
    "workflow = StateGraph(GraphState)"
   ]
  },
  {
   "cell_type": "markdown",
   "id": "68dff551",
   "metadata": {},
   "source": [
    "### 1.3. Define Nodes & Add Nodes to the Graph"
   ]
  },
  {
   "cell_type": "code",
   "execution_count": 24,
   "id": "34884960",
   "metadata": {},
   "outputs": [
    {
     "data": {
      "text/plain": [
       "<langgraph.graph.state.StateGraph at 0x12188b040>"
      ]
     },
     "execution_count": 24,
     "metadata": {},
     "output_type": "execute_result"
    }
   ],
   "source": [
    "def classify(text: str) -> str:\n",
    "    if \"hello\" in text.lower():\n",
    "        return \"greeting\"\n",
    "    return \"search\"\n",
    "\n",
    "def classify_input_node(state):\n",
    "    question = state.get('question', '').strip()\n",
    "    classification = classify(question)  # Assume a function that classifies the input\n",
    "    return {\"classification\": classification}\n",
    "\n",
    "def handle_greeting_node(state):\n",
    "    return {\"response\": \"Hello! How can I help you today?\"}\n",
    "\n",
    "def handle_search_node(state):\n",
    "    question = state.get('question', '').strip()\n",
    "    search_result = f\"Search result for '{question}'\"\n",
    "    return {\"response\": search_result}\n",
    "\n",
    "workflow.add_node(\"classify_input\", classify_input_node)\n",
    "workflow.add_node(\"handle_greeting\", handle_greeting_node)\n",
    "workflow.add_node(\"handle_search\", handle_search_node)"
   ]
  },
  {
   "cell_type": "markdown",
   "id": "4453c840",
   "metadata": {},
   "source": [
    "### 1.4. Define Edges & Add Edges to the Graph"
   ]
  },
  {
   "cell_type": "code",
   "execution_count": 25,
   "id": "e4f8e9e2",
   "metadata": {},
   "outputs": [
    {
     "data": {
      "text/plain": [
       "<langgraph.graph.state.StateGraph at 0x12188b040>"
      ]
     },
     "execution_count": 25,
     "metadata": {},
     "output_type": "execute_result"
    }
   ],
   "source": [
    "\n",
    "def decide_next_node(state):\n",
    "    return \"handle_greeting\" if state.get('classification') == \"greeting\" else \"handle_search\"\n",
    "\n",
    "workflow.add_conditional_edges(\n",
    "    \"classify_input\",\n",
    "    decide_next_node,\n",
    "    {\n",
    "        \"handle_greeting\": \"handle_greeting\",\n",
    "        \"handle_search\": \"handle_search\"\n",
    "    }\n",
    ")\n",
    "\n",
    "from langgraph.graph import END, StateGraph, START\n",
    "\n",
    "workflow.add_edge(START, 'classify_input')\n",
    "workflow.add_edge('handle_greeting', END)\n",
    "workflow.add_edge('handle_search', END)"
   ]
  },
  {
   "cell_type": "markdown",
   "id": "46e474c7",
   "metadata": {},
   "source": [
    "### 1.5. Compile and Run the Graph"
   ]
  },
  {
   "cell_type": "code",
   "execution_count": null,
   "id": "6a2a1e35",
   "metadata": {},
   "outputs": [
    {
     "name": "stdout",
     "output_type": "stream",
     "text": [
      "{'question': 'Hello, how are you?', 'classification': 'greeting', 'response': 'Hello! How can I help you today?'}\n"
     ]
    }
   ],
   "source": [
    "graph = workflow.compile()\n",
    "inputs = {\"question\": \"Hello, how are you?\"}\n",
    "result = graph.invoke(inputs)\n",
    "\n",
    "print(result)"
   ]
  },
  {
   "cell_type": "code",
   "execution_count": null,
   "id": "629692b6",
   "metadata": {},
   "outputs": [
    {
     "data": {
      "image/png": "[encoded data removed]",
      "text/plain": [
       "<IPython.core.display.Image object>"
      ]
     },
     "metadata": {},
     "output_type": "display_data"
    }
   ],
   "source": [
    "from IPython.display import Image, display\n",
    "\n",
    "display(Image(graph.get_graph().draw_mermaid_png()))"
   ]
  },
  {
   "cell_type": "markdown",
   "id": "ffa26eab",
   "metadata": {},
   "source": [
    "## 2. Simple RAG Example -- LangGraph Version\n",
    "\n",
    "\n",
    "From **Step 1 to Step 9**, all components in our pipeline—such as loading the model, preparing the embeddings, storing vectors, and setting up the retriever—**remain exactly the same**. \n",
    "\n",
    "These steps are reusable across both the standard LangChain pipeline and the LangGraph implementation."
   ]
  },
  {
   "cell_type": "code",
   "execution_count": null,
   "id": "e8a81011",
   "metadata": {},
   "outputs": [
    {
     "name": "stderr",
     "output_type": "stream",
     "text": [
      "USER_AGENT environment variable not set, consider setting it to identify your requests.\n",
      "/opt/miniconda3/envs/GeneTest/lib/python3.10/site-packages/torchvision/io/image.py:14: UserWarning: Failed to load image Python extension: 'dlopen(/opt/miniconda3/envs/GeneTest/lib/python3.10/site-packages/torchvision/image.so, 0x0006): Library not loaded: @rpath/libjpeg.9.dylib\n",
      "  Referenced from: <0B7EB158-53DC-3403-8A49-22178CAB4612> /opt/miniconda3/envs/GeneTest/lib/python3.10/site-packages/torchvision/image.so\n",
      "  Reason: tried: '/opt/miniconda3/envs/GeneTest/lib/python3.10/site-packages/torchvision/../../../libjpeg.9.dylib' (no such file), '/opt/miniconda3/envs/GeneTest/lib/python3.10/site-packages/torchvision/../../../libjpeg.9.dylib' (no such file), '/opt/miniconda3/envs/GeneTest/lib/python3.10/lib-dynload/../../libjpeg.9.dylib' (no such file), '/opt/miniconda3/envs/GeneTest/bin/../lib/libjpeg.9.dylib' (no such file)'If you don't plan on using image functionality from `torchvision.io`, you can ignore this warning. Otherwise, there might be something wrong with your environment. Did you have `libjpeg` or `libpng` installed before building `torchvision` from source?\n",
      "  warn(\n"
     ]
    }
   ],
   "source": [
    "# === Step 0: Import Dependencies ===\n",
    "from langchain_ollama import ChatOllama\n",
    "from langchain_huggingface import HuggingFaceEmbeddings\n",
    "from langchain_chroma import Chroma\n",
    "from langchain.prompts import ChatPromptTemplate\n",
    "from langchain_community.document_loaders import WebBaseLoader\n",
    "from langchain_text_splitters import RecursiveCharacterTextSplitter\n",
    "from langchain_core.runnables import RunnableLambda\n",
    "\n",
    "# === Step 1: Configure LangSmith ===\n",
    "import os\n",
    "from dotenv import load_dotenv\n",
    "load_dotenv()\n",
    "\n",
    "os.environ[\"LANGSMITH_TRACING\"] = os.getenv(\"LANGSMITH_TRACING\", \"false\")\n",
    "os.environ[\"LANGSMITH_API_KEY\"] = os.getenv(\"LANGSMITH_API_KEY\")\n",
    "\n",
    "\n",
    "# === Step 2: Load Chat Model ===\n",
    "llm = ChatOllama(\n",
    "    model=\"qwen2.5:3b\",                     # Use the Qwen 2.5 3B model\n",
    "    base_url=\"http://34.142.153.30:11434\",  # Replace with your Ollama server URL\n",
    "    api_key=\"ollama\"                        # Arbitrary string, not checked by Ollama\n",
    ")\n",
    "\n",
    "\n",
    "# === Step 3: Load Embedding Model ===\n",
    "embeddings = HuggingFaceEmbeddings(model_name=\"sentence-transformers/all-mpnet-base-v2\")\n",
    "\n",
    "\n",
    "# === Step 4: Load Vector Store ===\n",
    "vectorstore = Chroma(\n",
    "    embedding_function=embeddings,\n",
    "    persist_directory=\"./chroma_db\",        # Save vector data locally\n",
    "    collection_name=\"my_docs\"\n",
    ")\n",
    "\n",
    "\n",
    "# === Step 5: Load and Split Web Document ===\n",
    "loader = WebBaseLoader(\n",
    "    web_paths=[\"https://lilianweng.github.io/posts/2023-06-23-agent/\"]\n",
    ")\n",
    "docs = loader.load()\n",
    "\n",
    "\n",
    "# === Step 6: Split documents ===\n",
    "splitter = RecursiveCharacterTextSplitter(chunk_size=1000, chunk_overlap=200)\n",
    "splits = splitter.split_documents(docs)\n",
    "\n",
    "\n",
    "# === Step 7 Embedding and Storing Document Chunks ===\n",
    "vectorstore.add_documents(splits)\n",
    "\n",
    "\n",
    "# === Step 8: Define the Prompt Template ===\n",
    "prompt = ChatPromptTemplate.from_template(\n",
    "\"\"\"\n",
    "Answer the question based on the following context:\n",
    "--------------------\n",
    "{context}\n",
    "--------------------\n",
    "Question: {question}\n",
    "\"\"\"\n",
    ")\n",
    "\n",
    "\n",
    "# === Step 9: Build a Retriever from the Vector Store ===\n",
    "retriever = vectorstore.as_retriever()\n",
    "\n",
    "def combine_question_and_context(question):\n",
    "    context = retriever.invoke(question)\n",
    "    return {\"question\": question, \"context\": context}"
   ]
  },
  {
   "cell_type": "markdown",
   "id": "393c40e6",
   "metadata": {},
   "source": [
    "Now, following the introduction from **1.3 Five Steps to Build a LangGraph Workflow**, \n",
    "\n",
    "let's rewrite **Step 10** of our RAG example in **Teaching Session #3**, \n",
    "\n",
    "focusing on how we define the retrieval logic using LangGraph."
   ]
  },
  {
   "cell_type": "code",
   "execution_count": 37,
   "id": "9c91c152",
   "metadata": {},
   "outputs": [],
   "source": [
    "# === Step 10: Build the Workflow by using LangGraph ===\n",
    "from typing import Literal\n",
    "from typing_extensions import List, TypedDict\n",
    "from langchain_core.documents import Document\n",
    "from langgraph.graph import StateGraph\n",
    "from langgraph.graph import END, StateGraph, START\n",
    "\n",
    "\n",
    "# LangGraph-Step 1: Define the Graph State\n",
    "class State(TypedDict):\n",
    "    question: str\n",
    "    context: List[Document]\n",
    "    answer: str\n",
    "\n",
    "# LangGraph-Step 2: Create the Graph\n",
    "workflow = StateGraph(State)\n",
    "\n",
    "# LangGraph-Step 3: Define Nodes & Add Nodes to the Graph\n",
    "def retrieve(state: State):\n",
    "    retrieved_docs = vectorstore.similarity_search(state[\"question\"])\n",
    "    return {\"context\": retrieved_docs}\n",
    "\n",
    "\n",
    "def generate(state: State):\n",
    "    docs_content = \"\\n\\n\".join(doc.page_content for doc in state[\"context\"])\n",
    "    messages = prompt.invoke({\"question\": state[\"question\"], \"context\": docs_content})\n",
    "    response = llm.invoke(messages)\n",
    "    return {\"answer\": response.content}\n",
    "\n",
    "workflow.add_sequence([retrieve, generate])\n",
    "\n",
    "# LangGraph-Step 4: Define Edges & Add Edges to the Graph\n",
    "workflow.add_edge(START, \"retrieve\")\n",
    "\n",
    "# LangGraph-Step 5: Compile and Run the Graph\n",
    "graph = workflow.compile()"
   ]
  },
  {
   "cell_type": "markdown",
   "id": "49e73bd2",
   "metadata": {},
   "source": [
    "Let’s draw a mermaid diagram to illustrate the flow of our RAG pipeline.\n"
   ]
  },
  {
   "cell_type": "code",
   "execution_count": 50,
   "id": "37dddca9",
   "metadata": {},
   "outputs": [
    {
     "ename": "ValueError",
     "evalue": "Failed to render the graph using the Mermaid.INK API. Status code: 521.",
     "output_type": "error",
     "traceback": [
      "\u001b[0;31m---------------------------------------------------------------------------\u001b[0m",
      "\u001b[0;31mValueError\u001b[0m                                Traceback (most recent call last)",
      "Cell \u001b[0;32mIn[50], line 3\u001b[0m\n\u001b[1;32m      1\u001b[0m \u001b[38;5;28;01mfrom\u001b[39;00m \u001b[38;5;21;01mIPython\u001b[39;00m\u001b[38;5;21;01m.\u001b[39;00m\u001b[38;5;21;01mdisplay\u001b[39;00m \u001b[38;5;28;01mimport\u001b[39;00m Image, display\n\u001b[0;32m----> 3\u001b[0m display(Image(\u001b[43mgraph\u001b[49m\u001b[38;5;241;43m.\u001b[39;49m\u001b[43mget_graph\u001b[49m\u001b[43m(\u001b[49m\u001b[43m)\u001b[49m\u001b[38;5;241;43m.\u001b[39;49m\u001b[43mdraw_mermaid_png\u001b[49m\u001b[43m(\u001b[49m\u001b[43m)\u001b[49m))\n",
      "File \u001b[0;32m/opt/miniconda3/envs/GeneTest/lib/python3.10/site-packages/langchain_core/runnables/graph.py:679\u001b[0m, in \u001b[0;36mGraph.draw_mermaid_png\u001b[0;34m(self, curve_style, node_colors, wrap_label_n_words, output_file_path, draw_method, background_color, padding, frontmatter_config)\u001b[0m\n\u001b[1;32m    671\u001b[0m \u001b[38;5;28;01mfrom\u001b[39;00m \u001b[38;5;21;01mlangchain_core\u001b[39;00m\u001b[38;5;21;01m.\u001b[39;00m\u001b[38;5;21;01mrunnables\u001b[39;00m\u001b[38;5;21;01m.\u001b[39;00m\u001b[38;5;21;01mgraph_mermaid\u001b[39;00m \u001b[38;5;28;01mimport\u001b[39;00m draw_mermaid_png\n\u001b[1;32m    673\u001b[0m mermaid_syntax \u001b[38;5;241m=\u001b[39m \u001b[38;5;28mself\u001b[39m\u001b[38;5;241m.\u001b[39mdraw_mermaid(\n\u001b[1;32m    674\u001b[0m     curve_style\u001b[38;5;241m=\u001b[39mcurve_style,\n\u001b[1;32m    675\u001b[0m     node_colors\u001b[38;5;241m=\u001b[39mnode_colors,\n\u001b[1;32m    676\u001b[0m     wrap_label_n_words\u001b[38;5;241m=\u001b[39mwrap_label_n_words,\n\u001b[1;32m    677\u001b[0m     frontmatter_config\u001b[38;5;241m=\u001b[39mfrontmatter_config,\n\u001b[1;32m    678\u001b[0m )\n\u001b[0;32m--> 679\u001b[0m \u001b[38;5;28;01mreturn\u001b[39;00m \u001b[43mdraw_mermaid_png\u001b[49m\u001b[43m(\u001b[49m\n\u001b[1;32m    680\u001b[0m \u001b[43m    \u001b[49m\u001b[43mmermaid_syntax\u001b[49m\u001b[38;5;241;43m=\u001b[39;49m\u001b[43mmermaid_syntax\u001b[49m\u001b[43m,\u001b[49m\n\u001b[1;32m    681\u001b[0m \u001b[43m    \u001b[49m\u001b[43moutput_file_path\u001b[49m\u001b[38;5;241;43m=\u001b[39;49m\u001b[43moutput_file_path\u001b[49m\u001b[43m,\u001b[49m\n\u001b[1;32m    682\u001b[0m \u001b[43m    \u001b[49m\u001b[43mdraw_method\u001b[49m\u001b[38;5;241;43m=\u001b[39;49m\u001b[43mdraw_method\u001b[49m\u001b[43m,\u001b[49m\n\u001b[1;32m    683\u001b[0m \u001b[43m    \u001b[49m\u001b[43mbackground_color\u001b[49m\u001b[38;5;241;43m=\u001b[39;49m\u001b[43mbackground_color\u001b[49m\u001b[43m,\u001b[49m\n\u001b[1;32m    684\u001b[0m \u001b[43m    \u001b[49m\u001b[43mpadding\u001b[49m\u001b[38;5;241;43m=\u001b[39;49m\u001b[43mpadding\u001b[49m\u001b[43m,\u001b[49m\n\u001b[1;32m    685\u001b[0m \u001b[43m\u001b[49m\u001b[43m)\u001b[49m\n",
      "File \u001b[0;32m/opt/miniconda3/envs/GeneTest/lib/python3.10/site-packages/langchain_core/runnables/graph_mermaid.py:285\u001b[0m, in \u001b[0;36mdraw_mermaid_png\u001b[0;34m(mermaid_syntax, output_file_path, draw_method, background_color, padding)\u001b[0m\n\u001b[1;32m    279\u001b[0m     img_bytes \u001b[38;5;241m=\u001b[39m asyncio\u001b[38;5;241m.\u001b[39mrun(\n\u001b[1;32m    280\u001b[0m         _render_mermaid_using_pyppeteer(\n\u001b[1;32m    281\u001b[0m             mermaid_syntax, output_file_path, background_color, padding\n\u001b[1;32m    282\u001b[0m         )\n\u001b[1;32m    283\u001b[0m     )\n\u001b[1;32m    284\u001b[0m \u001b[38;5;28;01melif\u001b[39;00m draw_method \u001b[38;5;241m==\u001b[39m MermaidDrawMethod\u001b[38;5;241m.\u001b[39mAPI:\n\u001b[0;32m--> 285\u001b[0m     img_bytes \u001b[38;5;241m=\u001b[39m \u001b[43m_render_mermaid_using_api\u001b[49m\u001b[43m(\u001b[49m\n\u001b[1;32m    286\u001b[0m \u001b[43m        \u001b[49m\u001b[43mmermaid_syntax\u001b[49m\u001b[43m,\u001b[49m\u001b[43m \u001b[49m\u001b[43moutput_file_path\u001b[49m\u001b[43m,\u001b[49m\u001b[43m \u001b[49m\u001b[43mbackground_color\u001b[49m\n\u001b[1;32m    287\u001b[0m \u001b[43m    \u001b[49m\u001b[43m)\u001b[49m\n\u001b[1;32m    288\u001b[0m \u001b[38;5;28;01melse\u001b[39;00m:\n\u001b[1;32m    289\u001b[0m     supported_methods \u001b[38;5;241m=\u001b[39m \u001b[38;5;124m\"\u001b[39m\u001b[38;5;124m, \u001b[39m\u001b[38;5;124m\"\u001b[39m\u001b[38;5;241m.\u001b[39mjoin([m\u001b[38;5;241m.\u001b[39mvalue \u001b[38;5;28;01mfor\u001b[39;00m m \u001b[38;5;129;01min\u001b[39;00m MermaidDrawMethod])\n",
      "File \u001b[0;32m/opt/miniconda3/envs/GeneTest/lib/python3.10/site-packages/langchain_core/runnables/graph_mermaid.py:414\u001b[0m, in \u001b[0;36m_render_mermaid_using_api\u001b[0;34m(mermaid_syntax, output_file_path, background_color, file_type)\u001b[0m\n\u001b[1;32m    409\u001b[0m     \u001b[38;5;28;01mreturn\u001b[39;00m img_bytes\n\u001b[1;32m    410\u001b[0m msg \u001b[38;5;241m=\u001b[39m (\n\u001b[1;32m    411\u001b[0m     \u001b[38;5;124mf\u001b[39m\u001b[38;5;124m\"\u001b[39m\u001b[38;5;124mFailed to render the graph using the Mermaid.INK API. \u001b[39m\u001b[38;5;124m\"\u001b[39m\n\u001b[1;32m    412\u001b[0m     \u001b[38;5;124mf\u001b[39m\u001b[38;5;124m\"\u001b[39m\u001b[38;5;124mStatus code: \u001b[39m\u001b[38;5;132;01m{\u001b[39;00mresponse\u001b[38;5;241m.\u001b[39mstatus_code\u001b[38;5;132;01m}\u001b[39;00m\u001b[38;5;124m.\u001b[39m\u001b[38;5;124m\"\u001b[39m\n\u001b[1;32m    413\u001b[0m )\n\u001b[0;32m--> 414\u001b[0m \u001b[38;5;28;01mraise\u001b[39;00m \u001b[38;5;167;01mValueError\u001b[39;00m(msg)\n",
      "\u001b[0;31mValueError\u001b[0m: Failed to render the graph using the Mermaid.INK API. Status code: 521."
     ]
    }
   ],
   "source": [
    "from IPython.display import Image, display\n",
    "\n",
    "display(Image(graph.get_graph().draw_mermaid_png()))"
   ]
  },
  {
   "cell_type": "code",
   "execution_count": 34,
   "id": "5efca9fd",
   "metadata": {},
   "outputs": [
    {
     "name": "stdout",
     "output_type": "stream",
     "text": [
      "🔎 Question: What is Task Decomposition?\n",
      "🧠 Answer: Task decomposition involves breaking down a complex problem or task into smaller, more manageable subtasks or steps. This approach helps in understanding and solving problems by addressing them piece-by-piece.\n",
      "\n",
      "In the context of Tree of Thoughts (Yao et al., 2023), task decomposition is done in one of three ways:\n",
      "1. By using an LLM (Large Language Model) with simple prompting, like \"Steps for XYZ.\\n1.\", or \"What are the subgoals for achieving XYZ?\"\n",
      "2. Using task-specific instructions; e.g., writing a story outline for those who need to write a novel.\n",
      "3. With human inputs.\n",
      "\n",
      "By decomposing tasks into smaller steps, it becomes easier to reason about and solve problems more effectively.\n"
     ]
    }
   ],
   "source": [
    "def rag_answer(question: str) -> str:\n",
    "    result = graph.invoke({\"question\": question})\n",
    "    return result[\"answer\"]\n",
    "\n",
    "question = \"What is Task Decomposition?\"\n",
    "answer = rag_answer(question)\n",
    "\n",
    "print(\"🔎 Question:\", question)\n",
    "print(\"🧠 Answer:\", answer)\n"
   ]
  },
  {
   "cell_type": "markdown",
   "id": "ec36a5a3",
   "metadata": {},
   "source": [
    "## 3. Agentic RAG Example in LangGraph Version\n",
    "### 3.1 LangSmith"
   ]
  },
  {
   "cell_type": "code",
   "execution_count": 80,
   "id": "ddc0048f",
   "metadata": {},
   "outputs": [],
   "source": [
    "# === Step 1: Configure LangSmith ===\n",
    "import os\n",
    "from dotenv import load_dotenv\n",
    "load_dotenv()\n",
    "\n",
    "os.environ[\"LANGSMITH_TRACING\"] = os.getenv(\"LANGSMITH_TRACING\", \"false\")\n",
    "os.environ[\"LANGSMITH_API_KEY\"] = os.getenv(\"LANGSMITH_API_KEY\")"
   ]
  },
  {
   "cell_type": "markdown",
   "id": "fcea8d21",
   "metadata": {},
   "source": [
    "### 3.2 Retriever"
   ]
  },
  {
   "cell_type": "code",
   "execution_count": 81,
   "id": "c9344e1b",
   "metadata": {},
   "outputs": [
    {
     "name": "stderr",
     "output_type": "stream",
     "text": [
      "/var/folders/8n/w41cv82906x0yvx_g85scy680000gn/T/ipykernel_90525/2476117886.py:7: LangChainDeprecationWarning: The class `Chroma` was deprecated in LangChain 0.2.9 and will be removed in 1.0. An updated version of the class exists in the :class:`~langchain-chroma package and should be used instead. To use it run `pip install -U :class:`~langchain-chroma` and import as `from :class:`~langchain_chroma import Chroma``.\n",
      "  vectorstore = Chroma(\n"
     ]
    }
   ],
   "source": [
    "# === Step 2: Load Embedding Model ===\n",
    "from langchain_huggingface import HuggingFaceEmbeddings\n",
    "embeddings = HuggingFaceEmbeddings(model_name=\"sentence-transformers/all-mpnet-base-v2\")\n",
    "\n",
    "\n",
    "# === Step 3: Load Vector Store ===\n",
    "vectorstore = Chroma(\n",
    "    embedding_function=embeddings,\n",
    "    persist_directory=\"./agentic_rag_db\",\n",
    "    collection_name=\"my_docs\"\n",
    ")\n",
    "\n",
    "\n",
    "# === Step 4: Load and Split Web Document ===\n",
    "from langchain_community.document_loaders import WebBaseLoader\n",
    "from langchain_community.vectorstores import Chroma\n",
    "from langchain_text_splitters import RecursiveCharacterTextSplitter\n",
    "\n",
    "urls = [\n",
    "    \"https://lilianweng.github.io/posts/2023-06-23-agent/\",\n",
    "    \"https://lilianweng.github.io/posts/2023-03-15-prompt-engineering/\",\n",
    "    \"https://lilianweng.github.io/posts/2023-10-25-adv-attack-llm/\",\n",
    "]\n",
    "\n",
    "docs = [WebBaseLoader(url).load() for url in urls]\n",
    "docs_list = [item for sublist in docs for item in sublist]\n",
    "\n",
    "\n",
    "# === Step 5: Split documents ===\n",
    "text_splitter = RecursiveCharacterTextSplitter.from_tiktoken_encoder(\n",
    "    chunk_size=100, chunk_overlap=50\n",
    ")\n",
    "doc_splits = text_splitter.split_documents(docs_list)\n",
    "\n",
    "\n",
    "# === Step 7 Embedding and Storing Document Chunks ===\n",
    "vectorstore.add_documents(doc_splits)\n",
    "\n",
    "\n",
    "# === Step 8: Build a Retriever from the Vector Store ===\n",
    "retriever = vectorstore.as_retriever()"
   ]
  },
  {
   "cell_type": "code",
   "execution_count": 82,
   "id": "f423a556",
   "metadata": {},
   "outputs": [],
   "source": [
    "from langchain.tools.retriever import create_retriever_tool\n",
    "\n",
    "retriever_tool = create_retriever_tool(\n",
    "    retriever,\n",
    "    \"retrieve_blog_posts\",\n",
    "    \"Search and return information about Lilian Weng blog posts on LLM agents, prompt engineering, and adversarial attacks on LLMs.\",\n",
    ")\n",
    "\n",
    "tools = [retriever_tool]"
   ]
  },
  {
   "cell_type": "markdown",
   "id": "e2a7b7d9",
   "metadata": {},
   "source": [
    "### 3.3 LangGraph\n",
    "#### Define Agent State"
   ]
  },
  {
   "cell_type": "code",
   "execution_count": 83,
   "id": "cc2b501e",
   "metadata": {},
   "outputs": [],
   "source": [
    "from typing import Annotated, Sequence\n",
    "from typing_extensions import TypedDict\n",
    "from langchain_core.messages import BaseMessage\n",
    "from langgraph.graph.message import add_messages\n",
    "\n",
    "\n",
    "class AgentState(TypedDict):\n",
    "    messages: Annotated[Sequence[BaseMessage], add_messages]"
   ]
  },
  {
   "cell_type": "markdown",
   "id": "b7e21f2c",
   "metadata": {},
   "source": [
    "#### Define Node and Edges\n",
    "##### Edges"
   ]
  },
  {
   "cell_type": "code",
   "execution_count": 84,
   "id": "30c9b9c0",
   "metadata": {},
   "outputs": [],
   "source": [
    "from typing import Annotated, Literal, Sequence\n",
    "from typing_extensions import TypedDict\n",
    "\n",
    "from langchain import hub\n",
    "from langchain_core.messages import BaseMessage, HumanMessage\n",
    "from langchain_core.output_parsers import StrOutputParser\n",
    "from langchain_core.prompts import PromptTemplate\n",
    "from langchain_ollama import ChatOllama\n",
    "\n",
    "from pydantic import BaseModel, Field\n",
    "from langgraph.prebuilt import tools_condition\n",
    "\n",
    "### Edges\n",
    "\"\"\"\n",
    "  Determines whether the retrieved documents are relevant to the question.\n",
    "  Args:\n",
    "      state (messages): The current state\n",
    "  Returns:\n",
    "      str: A decision for whether the documents are relevant or not,return 'generate' or 'rewrite'\n",
    "\"\"\"\n",
    "def evaluate_documents(state) -> Literal[\"generate\", \"rewrite\"]:\n",
    "    print(\"---------CHECK RELEVANCE---------\")\n",
    "    # Data model\n",
    "    class grade(BaseModel):\n",
    "        \"\"\"Binary score for relevance check.\"\"\"\n",
    "        binary_score: str = Field(description=\"Relevance score 'yes' or 'no'\")\n",
    "\n",
    "    # LLM\n",
    "    model = ChatOllama(\n",
    "        model=\"qwen2.5:3b\",\n",
    "        base_url='http://34.142.153.30:11434',\n",
    "        api_key='ollama',\n",
    "        temperature=0\n",
    "    )\n",
    "\n",
    "    # LLM with tool and validation\n",
    "    # When you call it, please output the JSON format structure according to the definition of the grade class\n",
    "    llm_with_tool = model.with_structured_output(grade)\n",
    "\n",
    "    # Prompt\n",
    "    prompt = PromptTemplate(\n",
    "        template=\"\"\"You are a grader assessing relevance of a retrieved document to a user question. \\n \n",
    "        Here is the retrieved document: \\n\\n {context} \\n\\n\n",
    "        Here is the user question: {question} \\n\n",
    "        If the document contains keyword(s) or semantic meaning related to the user question, grade it as relevant. \\n\n",
    "        Give a binary score 'yes' or 'no' score to indicate whether the document is relevant to the question.\"\"\",\n",
    "        input_variables=[\"context\", \"question\"],\n",
    "    )\n",
    "\n",
    "    # Chain\n",
    "    chain = prompt | llm_with_tool\n",
    "\n",
    "    messages = state[\"messages\"] # take the message out from the AgentState\n",
    "    last_message = messages[-1]\n",
    "\n",
    "    question = messages[0].content # take the question out\n",
    "    docs = last_message.content # take the docs out\n",
    "\n",
    "    scored_result = chain.invoke({\"question\": question, \"context\": docs}) # use our evaluate chain to judge a score\n",
    "    score = scored_result.binary_score\n",
    "\n",
    "    if score == \"yes\":\n",
    "        print(\"---------DECISION: DOCS IS RELEVANT---------\")\n",
    "        return \"generate\"\n",
    "\n",
    "    else:\n",
    "        print(\"---------DECISION: DOCS IS NOT RELEVANT---------\")\n",
    "        return \"rewrite\"\n"
   ]
  },
  {
   "cell_type": "markdown",
   "id": "81daac5f",
   "metadata": {},
   "source": [
    "##### Agent Node"
   ]
  },
  {
   "cell_type": "code",
   "execution_count": 86,
   "id": "f5a0b6dd",
   "metadata": {},
   "outputs": [],
   "source": [
    "\n",
    "### Nodes\n",
    "\"\"\"\n",
    "  Invokes the agent model to generate a response based on the current state. Given\n",
    "  the question, it will decide to retrieve using the retriever tool, or simply end.\n",
    "  Args:\n",
    "      state (messages): The current state\n",
    "  Returns:\n",
    "      dict: The updated state with the agent response appended to messages\n",
    "\"\"\"\n",
    "def agent(state):\n",
    "    print(\"---------CALL AGENT---------\")\n",
    "    messages = state[\"messages\"]\n",
    "    model = ChatOllama(\n",
    "        model=\"qwen2.5:3b\",\n",
    "        base_url='http://34.142.153.30:11434',\n",
    "        api_key='ollama',\n",
    "        temperature=0\n",
    "    )\n",
    "    model = model.bind_tools(tools)\n",
    "    response = model.invoke(messages)\n",
    "    # We return a list, because this will get added to the existing list\n",
    "    return {\"messages\": [response]}"
   ]
  },
  {
   "cell_type": "markdown",
   "id": "f323d1db",
   "metadata": {},
   "source": [
    "##### Rewrite Node"
   ]
  },
  {
   "cell_type": "code",
   "execution_count": 87,
   "id": "d36e0419",
   "metadata": {},
   "outputs": [],
   "source": [
    "\"\"\"\n",
    "  Transform the query to produce a better question.\n",
    "  Args:\n",
    "      state (messages): The current state\n",
    "  Returns:\n",
    "      dict: The updated state with re-phrased question\n",
    "\"\"\"\n",
    "def rewrite(state):\n",
    "    print(\"---------TRANSFORM QUERY---------\")\n",
    "    messages = state[\"messages\"]\n",
    "    question = messages[0].content\n",
    "    \n",
    "    msg = [\n",
    "        HumanMessage(\n",
    "            content=f\"\"\" \\n \n",
    "    Look at the input and try to reason about the underlying semantic intent / meaning. \\n \n",
    "    Here is the initial question:\n",
    "    \\n ------- \\n\n",
    "    {question} \n",
    "    \\n ------- \\n\n",
    "    Formulate an improved question: \"\"\",\n",
    "        )\n",
    "    ]\n",
    "\n",
    "    # Grader\n",
    "    model = ChatOllama(\n",
    "        model=\"qwen2.5:3b\",\n",
    "        base_url='http://34.142.153.30:11434',\n",
    "        api_key='ollama',\n",
    "        temperature=0.5\n",
    "    )\n",
    "    response = model.invoke(msg)\n",
    "    return {\"messages\": [response]}"
   ]
  },
  {
   "cell_type": "markdown",
   "id": "099313a7",
   "metadata": {},
   "source": [
    "##### Generate Node"
   ]
  },
  {
   "cell_type": "code",
   "execution_count": 89,
   "id": "cc5b5500",
   "metadata": {},
   "outputs": [
    {
     "name": "stdout",
     "output_type": "stream",
     "text": [
      "********************Prompt[rlm/rag-prompt]********************\n",
      "================================\u001b[1m Human Message \u001b[0m=================================\n",
      "\n",
      "You are an assistant for question-answering tasks. Use the following pieces of retrieved context to answer the question. If you don't know the answer, just say that you don't know. Use three sentences maximum and keep the answer concise.\n",
      "Question: \u001b[33;1m\u001b[1;3m{question}\u001b[0m \n",
      "Context: \u001b[33;1m\u001b[1;3m{context}\u001b[0m \n",
      "Answer:\n"
     ]
    }
   ],
   "source": [
    "\"\"\"\n",
    "  Generate answer\n",
    "  Args:\n",
    "      state (messages): The current state\n",
    "  Returns:\n",
    "       dict: The updated state with re-phrased question\n",
    "\"\"\"\n",
    "def generate(state):\n",
    "    print(\"---------GENERATE---------\")\n",
    "    messages = state[\"messages\"]\n",
    "    question = messages[0].content\n",
    "    last_message = messages[-1]\n",
    "\n",
    "    docs = last_message.content\n",
    "\n",
    "    # Prompt\n",
    "    prompt = hub.pull(\"rlm/rag-prompt\")\n",
    "\n",
    "    # LLM\n",
    "    llm = ChatOllama(\n",
    "        model=\"qwen2.5:3b\",\n",
    "        base_url='http://34.142.153.30:11434',\n",
    "        api_key='ollama',\n",
    "        temperature=0.3\n",
    "    )\n",
    "\n",
    "    # Post-processing\n",
    "    def format_docs(docs):\n",
    "        return \"\\n\\n\".join(doc.page_content for doc in docs)\n",
    "\n",
    "    # Chain\n",
    "    rag_chain = prompt | llm | StrOutputParser()\n",
    "\n",
    "    # Run\n",
    "    response = rag_chain.invoke({\"context\": docs, \"question\": question})\n",
    "    return {\"messages\": [response]}\n",
    "\n",
    "\n",
    "print(\"*\" * 20 + \"Prompt[rlm/rag-prompt]\" + \"*\" * 20)\n",
    "prompt = hub.pull(\"rlm/rag-prompt\").pretty_print()  # Show what the prompt looks like"
   ]
  },
  {
   "cell_type": "markdown",
   "id": "e1fbb95c",
   "metadata": {},
   "source": [
    "#### Compile and Run the Graph"
   ]
  },
  {
   "cell_type": "code",
   "execution_count": 90,
   "id": "afd67545",
   "metadata": {},
   "outputs": [],
   "source": [
    "from langgraph.graph import END, StateGraph, START\n",
    "from langgraph.prebuilt import ToolNode\n",
    "\n",
    "\n",
    "# Define a new graph\n",
    "workflow = StateGraph(AgentState)\n",
    "\n",
    "# Add the nodes we will cycle between\n",
    "workflow.add_node(\"agent\", agent)  # agent\n",
    "retrieve = ToolNode([retriever_tool])\n",
    "workflow.add_node(\"retrieve\", retrieve)  # retrieval\n",
    "workflow.add_node(\"rewrite\", rewrite)  # Re-writing the question\n",
    "workflow.add_node(\"generate\", generate)  # Generating a response after we know the documents are relevant\n",
    "\n",
    "# Add edges\n",
    "# Call agent node to decide to retrieve or not\n",
    "workflow.add_edge(START, \"agent\")\n",
    "\n",
    "# Decide whether to retrieve\n",
    "workflow.add_conditional_edges(\n",
    "    \"agent\",\n",
    "    # Assess agent decision (Official provided judge)\n",
    "    tools_condition,\n",
    "    {\n",
    "        \"tools\": \"retrieve\", # If the agent calls the tool → jump to the retrieve node\n",
    "        END: END, # Else, the agent replies directly → jump to the END node\n",
    "    },\n",
    ")\n",
    "\n",
    "# Edges taken after the `action` node is called.\n",
    "workflow.add_conditional_edges(\n",
    "    \"retrieve\",\n",
    "    # Assess agent decision (Logic DIY by ourselves before)\n",
    "    evaluate_documents, # Decide whether to jump generate or rewrite\n",
    ")\n",
    "workflow.add_edge(\"generate\", END)\n",
    "workflow.add_edge(\"rewrite\", \"agent\")\n",
    "\n",
    "# Compile\n",
    "graph = workflow.compile()"
   ]
  },
  {
   "cell_type": "markdown",
   "id": "b607f27c",
   "metadata": {},
   "source": [
    "#### visualize the compiled graph"
   ]
  },
  {
   "cell_type": "code",
   "execution_count": 91,
   "id": "b94b34ac",
   "metadata": {},
   "outputs": [
    {
     "data": {
      "image/png": "[encoded data removed]",
      "text/plain": [
       "<IPython.core.display.Image object>"
      ]
     },
     "metadata": {},
     "output_type": "display_data"
    }
   ],
   "source": [
    "from IPython.display import Image, display\n",
    "display(Image(graph.get_graph(xray=True).draw_mermaid_png()))\n",
    "\n",
    "# If cannot display the image, use the following code to display the graph in markdown format, \n",
    "# and then copy the mermaid code to a mermaid live editor to visualize it.\n",
    "# https://mermaid.live/\n",
    "\n",
    "# from IPython.display import Markdown\n",
    "\n",
    "# mermaid_src = graph.get_graph().draw_mermaid()\n",
    "# display(Markdown(f\"```mermaid\\n{mermaid_src}\\n```\"))\n"
   ]
  },
  {
   "cell_type": "markdown",
   "id": "6792a605",
   "metadata": {},
   "source": [
    "Finally, let's call the `graph.steam()` method to execute the graph and see the results."
   ]
  },
  {
   "cell_type": "code",
   "execution_count": 96,
   "id": "7a47c346",
   "metadata": {},
   "outputs": [
    {
     "name": "stdout",
     "output_type": "stream",
     "text": [
      "---------CALL AGENT---------\n",
      "Output from node agent:\n",
      "{ 'messages': [ AIMessage(content='', additional_kwargs={}, response_metadata={'model': 'qwen2.5:3b', 'created_at': '2025-04-21T11:53:44.378402316Z', 'done': True, 'done_reason': 'stop', 'total_duration': 1344579228, 'load_duration': 22419886, 'prompt_eval_count': 193, 'prompt_eval_duration': 287396092, 'eval_count': 23, 'eval_duration': 1027466822, 'message': Message(role='assistant', content='', images=None, tool_calls=None), 'model_name': 'qwen2.5:3b'}, id='run-42da2506-61c5-4c40-9dc9-739b12444bc1-0', tool_calls=[{'name': 'retrieve_blog_posts', 'args': {'query': 'agent System Overview'}, 'id': '78f99ef1-a266-4d2a-82d6-3a2597943675', 'type': 'tool_call'}], usage_metadata={'input_tokens': 193, 'output_tokens': 23, 'total_tokens': 216})]}\n",
      "\n",
      "\n",
      "---------CHECK RELEVANCE---------\n",
      "---------DECISION: DOCS IS NOT RELEVANT---------\n",
      "Output from node retrieve:\n",
      "{ 'messages': [ ToolMessage(content='Table of Contents\\n\\n\\n\\nAgent System Overview\\n\\nComponent One: Planning\\n\\nTask Decomposition\\n\\nSelf-Reflection\\n\\n\\nComponent Two: Memory\\n\\nTypes of Memory\\n\\nMaximum Inner Product Search (MIPS)\\n\\n\\nComponent Three: Tool Use\\n\\nCase Studies\\n\\nScientific Discovery Agent\\n\\nGenerative Agents Simulation\\n\\nProof-of-Concept Examples\\n\\n\\nChallenges\\n\\nCitation\\n\\nReferences\\n\\nTable of Contents\\n\\n\\n\\nAgent System Overview\\n\\nComponent One: Planning\\n\\nTask Decomposition\\n\\nSelf-Reflection\\n\\n\\nComponent Two: Memory\\n\\nTypes of Memory\\n\\nMaximum Inner Product Search (MIPS)\\n\\n\\nComponent Three: Tool Use\\n\\nCase Studies\\n\\nScientific Discovery Agent\\n\\nGenerative Agents Simulation\\n\\nProof-of-Concept Examples\\n\\n\\nChallenges\\n\\nCitation\\n\\nReferences\\n\\nAgent System Overview#\\nIn a LLM-powered autonomous agent system, LLM functions as the agent’s brain, complemented by several key components:\\n\\nAgent System Overview#\\nIn a LLM-powered autonomous agent system, LLM functions as the agent’s brain, complemented by several key components:', name='retrieve_blog_posts', id='3dd262ba-cea0-4fc7-ad54-d0e00f9edd8d', tool_call_id='78f99ef1-a266-4d2a-82d6-3a2597943675')]}\n",
      "\n",
      "\n",
      "---------TRANSFORM QUERY---------\n",
      "Output from node rewrite:\n",
      "{ 'messages': [ AIMessage(content='What specific aspects or features of the System Overview for the Agent are discussed in the blog post?', additional_kwargs={}, response_metadata={'model': 'qwen2.5:3b', 'created_at': '2025-04-21T11:53:53.268369872Z', 'done': True, 'done_reason': 'stop', 'total_duration': 1770350750, 'load_duration': 22726740, 'prompt_eval_count': 81, 'prompt_eval_duration': 892423189, 'eval_count': 20, 'eval_duration': 849868427, 'message': Message(role='assistant', content='', images=None, tool_calls=None), 'model_name': 'qwen2.5:3b'}, id='run-4a8fefea-457e-45f3-8d42-bd0f45be7515-0', usage_metadata={'input_tokens': 81, 'output_tokens': 20, 'total_tokens': 101})]}\n",
      "\n",
      "\n",
      "---------CALL AGENT---------\n",
      "Output from node agent:\n",
      "{ 'messages': [ AIMessage(content=' Based on the information provided in the table of contents and the excerpt you shared:\\n\\n- **Component One: Planning**\\n  - Task Decomposition\\n  - Self-Reflection\\n\\n- **Component Two: Memory**\\n  - Types of Memory\\n  - Maximum Inner Product Search (MIPS)\\n\\n- **Component Three: Tool Use**\\n  - Case Studies\\n  - Scientific Discovery Agent\\n  - Generative Agents Simulation\\n  - Proof-of-Concept Examples\\n\\nThe blog post also mentions challenges and references at the end. \\n\\nIs there a particular aspect you would like to know more about or any other specific information you need?', additional_kwargs={}, response_metadata={'model': 'qwen2.5:3b', 'created_at': '2025-04-21T11:54:06.360470454Z', 'done': True, 'done_reason': 'stop', 'total_duration': 12831734925, 'load_duration': 24112094, 'prompt_eval_count': 451, 'prompt_eval_duration': 6551252167, 'eval_count': 126, 'eval_duration': 6216486779, 'message': Message(role='assistant', content=' Based on the information provided in the table of contents and the excerpt you shared:\\n\\n- **Component One: Planning**\\n  - Task Decomposition\\n  - Self-Reflection\\n\\n- **Component Two: Memory**\\n  - Types of Memory\\n  - Maximum Inner Product Search (MIPS)\\n\\n- **Component Three: Tool Use**\\n  - Case Studies\\n  - Scientific Discovery Agent\\n  - Generative Agents Simulation\\n  - Proof-of-Concept Examples\\n\\nThe blog post also mentions challenges and references at the end. \\n\\nIs there a particular aspect you would like to know more about or any other specific information you need?', images=None, tool_calls=None), 'model_name': 'qwen2.5:3b'}, id='run-262ddfcd-a7ff-4550-9f54-1e13b9035919-0', usage_metadata={'input_tokens': 451, 'output_tokens': 126, 'total_tokens': 577})]}\n",
      "\n",
      "\n"
     ]
    }
   ],
   "source": [
    "import pprint\n",
    "from langchain_core.messages import HumanMessage\n",
    "\n",
    "inputs = {\n",
    "    \"messages\": [\n",
    "        HumanMessage(content=\"What does the blog say about the agent System Overview?\")\n",
    "    ]\n",
    "}\n",
    "\n",
    "for output in graph.stream(inputs): # actually run the graph we use .stream instead of .invoke\n",
    "    for key, value in output.items():\n",
    "        print(f\"Output from node {key}:\")\n",
    "        pprint.pprint(value, indent=2, width=80, depth=None)\n",
    "    print(\"\\n\")"
   ]
  },
  {
   "cell_type": "markdown",
   "id": "5f3016cf",
   "metadata": {},
   "source": [
    "Try to run a bad query to see how the agent handles it."
   ]
  },
  {
   "cell_type": "code",
   "execution_count": 93,
   "id": "431a2b68",
   "metadata": {},
   "outputs": [
    {
     "name": "stdout",
     "output_type": "stream",
     "text": [
      "---------CALL AGENT---------\n",
      "Output from node agent:\n",
      "{ 'messages': [ AIMessage(content=\"Could you please provide more context or a specific question? I'm ready to help with information about Lilian Weng's blog posts on LLM agents, prompt engineering, and adversarial attacks on LLMs. What exactly would you like to know?\", additional_kwargs={}, response_metadata={'model': 'qwen2.5:3b', 'created_at': '2025-04-21T11:49:53.90666668Z', 'done': True, 'done_reason': 'stop', 'total_duration': 3375753975, 'load_duration': 23171838, 'prompt_eval_count': 184, 'prompt_eval_duration': 172044193, 'eval_count': 52, 'eval_duration': 3173144160, 'message': Message(role='assistant', content=\"Could you please provide more context or a specific question? I'm ready to help with information about Lilian Weng's blog posts on LLM agents, prompt engineering, and adversarial attacks on LLMs. What exactly would you like to know?\", images=None, tool_calls=None), 'model_name': 'qwen2.5:3b'}, id='run-fc02679e-0668-4bce-bcfe-861a6dfcf14c-0', usage_metadata={'input_tokens': 184, 'output_tokens': 52, 'total_tokens': 236})]}\n",
      "\n",
      "\n"
     ]
    }
   ],
   "source": [
    "import pprint\n",
    "from langchain_core.messages import HumanMessage\n",
    "\n",
    "inputs = {\n",
    "    \"messages\": [\n",
    "        HumanMessage(content=\"type?\")\n",
    "    ]\n",
    "}\n",
    "\n",
    "for output in graph.stream(inputs): # actually run the graph we use .stream instead of .invoke\n",
    "    for key, value in output.items():\n",
    "        print(f\"Output from node {key}:\")\n",
    "        pprint.pprint(value, indent=2, width=80, depth=None)\n",
    "    print(\"\\n\")"
   ]
  },
  {
   "cell_type": "code",
   "execution_count": 94,
   "id": "e8749318",
   "metadata": {},
   "outputs": [
    {
     "name": "stdout",
     "output_type": "stream",
     "text": [
      "---------CALL AGENT---------\n",
      "Output from node agent:\n",
      "{ 'messages': [ AIMessage(content='', additional_kwargs={}, response_metadata={'model': 'qwen2.5:3b', 'created_at': '2025-04-21T11:50:08.01418519Z', 'done': True, 'done_reason': 'stop', 'total_duration': 1879387139, 'load_duration': 22102297, 'prompt_eval_count': 194, 'prompt_eval_duration': 306765938, 'eval_count': 25, 'eval_duration': 1543245782, 'message': Message(role='assistant', content='', images=None, tool_calls=None), 'model_name': 'qwen2.5:3b'}, id='run-81da2bcb-035a-4eaf-aabf-4991cc568365-0', tool_calls=[{'name': 'retrieve_blog_posts', 'args': {'query': 'LoRA vs PEFT'}, 'id': '52ded606-a1d4-4a9f-9fcc-14b4a3e993d2', 'type': 'tool_call'}], usage_metadata={'input_tokens': 194, 'output_tokens': 25, 'total_tokens': 219})]}\n",
      "\n",
      "\n",
      "---------CHECK RELEVANCE---------\n",
      "---------DECISION: DOCS IS NOT RELEVANT---------\n",
      "Output from node retrieve:\n",
      "{ 'messages': [ ToolMessage(content='FIFO: Can replace the seed hand-curated examples, and thus the generation can diverge.\\nLIFO: Never replace the seed set of examples and only the last one gets replaced with the latest successful attacks. But quite limited in terms of diversity and attack effectiveness.\\n\\nFIFO: Can replace the seed hand-curated examples, and thus the generation can diverge.\\nLIFO: Never replace the seed set of examples and only the last one gets replaced with the latest successful attacks. But quite limited in terms of diversity and attack effectiveness.\\n\\nLIFO: Never replace the seed set of examples and only the last one gets replaced with the latest successful attacks. But quite limited in terms of diversity and attack effectiveness.\\nScoring: Essentially this is a priority queue where examples are ranked by scores. Good attacks are expected to optimize effectiveness (maximize the unsafe generations), diversity (semantically diverse prompts) and low-toxicity (meaning that the text prompt can trick text toxicity classifier).\\n\\nLIFO: Never replace the seed set of examples and only the last one gets replaced with the latest successful attacks. But quite limited in terms of diversity and attack effectiveness.\\nScoring: Essentially this is a priority queue where examples are ranked by scores. Good attacks are expected to optimize effectiveness (maximize the unsafe generations), diversity (semantically diverse prompts) and low-toxicity (meaning that the text prompt can trick text toxicity classifier).', name='retrieve_blog_posts', id='a3bebd0a-7e44-4ca1-b7bf-32ca8fe565d2', tool_call_id='52ded606-a1d4-4a9f-9fcc-14b4a3e993d2')]}\n",
      "\n",
      "\n",
      "---------TRANSFORM QUERY---------\n",
      "Output from node rewrite:\n",
      "{ 'messages': [ AIMessage(content='What are the main differences and comparisons between LoRA and PEFT in the context of fine-tuning large language models?', additional_kwargs={}, response_metadata={'model': 'qwen2.5:3b', 'created_at': '2025-04-21T11:50:18.413734054Z', 'done': True, 'done_reason': 'stop', 'total_duration': 2396874096, 'load_duration': 22433584, 'prompt_eval_count': 82, 'prompt_eval_duration': 908360000, 'eval_count': 25, 'eval_duration': 1460952269, 'message': Message(role='assistant', content='', images=None, tool_calls=None), 'model_name': 'qwen2.5:3b'}, id='run-115d12c3-ad5d-43ee-992a-8ae796042e3c-0', usage_metadata={'input_tokens': 82, 'output_tokens': 25, 'total_tokens': 107})]}\n",
      "\n",
      "\n",
      "---------CALL AGENT---------\n",
      "Output from node agent:\n",
      "{ 'messages': [ AIMessage(content=' The provided blog post does not directly discuss these two techniques. However, it mentions how they handle seed examples differently:\\n\\n- **FIFO (First-In-First-Out)**: This approach can replace the initial seed hand-curated examples, allowing for more divergent generation outcomes.\\n  \\n- **LIFO (Last-In-First-Out)**: In contrast, this method never replaces the initial seed set of examples and only the last one gets replaced with the latest successful attacks. It is limited in terms of diversity and attack effectiveness.\\n\\nAdditionally, both techniques use a scoring system to prioritize which examples are used for generating new text prompts. The blog post suggests that good attacks should optimize three criteria:\\n1. Effectiveness (maximize unsafe generations)\\n2. Diversity (semantically diverse prompts)\\n3. Low-toxicity (ability to trick text toxicity classifiers)\\n\\nGiven the context, it seems LoRA and PEFT might be used in different scenarios depending on whether you want more divergent results or a method that only updates the most recent example. The scoring system is important for both techniques as it helps in generating attacks that are effective, diverse, and less likely to trigger toxicity classifiers.', additional_kwargs={}, response_metadata={'model': 'qwen2.5:3b', 'created_at': '2025-04-21T11:50:38.137417933Z', 'done': True, 'done_reason': 'stop', 'total_duration': 19453947139, 'load_duration': 22313749, 'prompt_eval_count': 543, 'prompt_eval_duration': 8042185101, 'eval_count': 236, 'eval_duration': 11348160541, 'message': Message(role='assistant', content=' The provided blog post does not directly discuss these two techniques. However, it mentions how they handle seed examples differently:\\n\\n- **FIFO (First-In-First-Out)**: This approach can replace the initial seed hand-curated examples, allowing for more divergent generation outcomes.\\n  \\n- **LIFO (Last-In-First-Out)**: In contrast, this method never replaces the initial seed set of examples and only the last one gets replaced with the latest successful attacks. It is limited in terms of diversity and attack effectiveness.\\n\\nAdditionally, both techniques use a scoring system to prioritize which examples are used for generating new text prompts. The blog post suggests that good attacks should optimize three criteria:\\n1. Effectiveness (maximize unsafe generations)\\n2. Diversity (semantically diverse prompts)\\n3. Low-toxicity (ability to trick text toxicity classifiers)\\n\\nGiven the context, it seems LoRA and PEFT might be used in different scenarios depending on whether you want more divergent results or a method that only updates the most recent example. The scoring system is important for both techniques as it helps in generating attacks that are effective, diverse, and less likely to trigger toxicity classifiers.', images=None, tool_calls=None), 'model_name': 'qwen2.5:3b'}, id='run-3a8f5e05-cbdb-480c-af5a-07fc9ab58f51-0', usage_metadata={'input_tokens': 543, 'output_tokens': 236, 'total_tokens': 779})]}\n",
      "\n",
      "\n"
     ]
    }
   ],
   "source": [
    "import pprint\n",
    "from langchain_core.messages import HumanMessage\n",
    "\n",
    "inputs = {\n",
    "    \"messages\": [\n",
    "        HumanMessage(content=\"What does the blog say about LoRA vs PEFT?\")\n",
    "    ]\n",
    "}\n",
    "\n",
    "for output in graph.stream(inputs): # actually run the graph we use .stream instead of .invoke\n",
    "    for key, value in output.items():\n",
    "        print(f\"Output from node {key}:\")\n",
    "        pprint.pprint(value, indent=2, width=80, depth=None)\n",
    "    print(\"\\n\")"
   ]
  },
  {
   "cell_type": "markdown",
   "id": "e9cc4410",
   "metadata": {},
   "source": []
  }
 ],
 "metadata": {
  "kernelspec": {
   "display_name": "GeneTest",
   "language": "python",
   "name": "python3"
  },
  "language_info": {
   "codemirror_mode": {
    "name": "ipython",
    "version": 3
   },
   "file_extension": ".py",
   "mimetype": "text/x-python",
   "name": "python",
   "nbconvert_exporter": "python",
   "pygments_lexer": "ipython3",
   "version": "3.10.17"
  }
 },
 "nbformat": 4,
 "nbformat_minor": 5
}
